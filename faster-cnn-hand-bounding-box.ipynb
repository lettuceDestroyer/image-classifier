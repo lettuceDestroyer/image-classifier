{
  "cells": [
    {
      "cell_type": "markdown",
      "metadata": {
        "id": "m8rlt9KQ7491"
      },
      "source": [
        "# Imports"
      ]
    },
    {
      "cell_type": "code",
      "execution_count": null,
      "metadata": {
        "id": "Ty-et5bEy4Ij"
      },
      "outputs": [],
      "source": [
        "import glob\n",
        "import os\n",
        "from tqdm import tqdm\n",
        "import xml.etree.ElementTree as ET\n",
        "import numpy as np\n",
        "import pandas as pd\n",
        "import matplotlib.image\n",
        "import matplotlib.pyplot as plt\n",
        "from sklearn.metrics import confusion_matrix, ConfusionMatrixDisplay\n",
        "import PIL\n",
        "\n",
        "from torchvision.models.detection import fasterrcnn_resnet50_fpn_v2, FasterRCNN_ResNet50_FPN_V2_Weights\n",
        "from torchvision.models.detection.faster_rcnn import FastRCNNPredictor\n",
        "from torchvision.utils import draw_bounding_boxes\n",
        "\n",
        "import torch\n",
        "import torch.optim as optim\n",
        "from torch.utils.data import Dataset, DataLoader\n",
        "import torchvision.transforms as transforms\n",
        "from torchvision.io import decode_image, ImageReadMode"
      ]
    },
    {
      "cell_type": "markdown",
      "source": [
        "# Mount Google Drive"
      ],
      "metadata": {
        "id": "06qofpsDk7bI"
      }
    },
    {
      "cell_type": "code",
      "source": [
        "from google.colab import drive\n",
        "drive.mount('/content/drive')"
      ],
      "metadata": {
        "id": "YEH2TE4AkCt6"
      },
      "execution_count": null,
      "outputs": []
    },
    {
      "cell_type": "markdown",
      "metadata": {
        "id": "zuBElUZcTgnw"
      },
      "source": [
        "# Variables"
      ]
    },
    {
      "cell_type": "code",
      "source": [
        "import torch\n",
        "torch.cuda.empty_cache()\n",
        "import gc\n",
        "gc.collect()"
      ],
      "metadata": {
        "id": "d10pM0gG1a6a"
      },
      "execution_count": null,
      "outputs": []
    },
    {
      "cell_type": "code",
      "execution_count": null,
      "metadata": {
        "id": "cq8LR-9qTgnw"
      },
      "outputs": [],
      "source": [
        "ROOT_FOLDER_PATH = '/content/drive/MyDrive/dataset/archive'\n",
        "# Number of labels (your dataset labels + 1 for background)\n",
        "NUMBER_OF_LABELS = 2\n",
        "IMAGE_WIDTH = 800\n",
        "IMAGE_HEIGHT = 640\n",
        "BATCH_SIZE = 2"
      ]
    },
    {
      "cell_type": "code",
      "execution_count": null,
      "metadata": {
        "id": "mk3J6r_iTgnw"
      },
      "outputs": [],
      "source": [
        "def resize_image_and_bbox(img, bboxes, new_height, new_width):\n",
        "    original_width, original_height = img.size\n",
        "\n",
        "    height_factor = original_height / new_height\n",
        "    width_factor = original_width / new_width\n",
        "\n",
        "    transform = transforms.Compose([\n",
        "        transforms.Resize((new_height, new_width)),\n",
        "        transforms.ToTensor()\n",
        "    ])\n",
        "    img_as_tensor = transform(img)\n",
        "\n",
        "    # Scale x coordinates\n",
        "    bboxes[:, [0, 2]] = bboxes[:, [0, 2]] / width_factor\n",
        "    # Scale y coordinates\n",
        "    bboxes[:, [1, 3]] = bboxes[:, [1, 3]] / height_factor\n",
        "\n",
        "    return img_as_tensor, bboxes"
      ]
    },
    {
      "cell_type": "markdown",
      "metadata": {
        "id": "WxJc0x0UA6jF"
      },
      "source": [
        "# Datasets and Dataloaders"
      ]
    },
    {
      "cell_type": "code",
      "execution_count": null,
      "metadata": {
        "id": "68jc0MMp-RRO"
      },
      "outputs": [],
      "source": [
        "transform = transforms.Compose([\n",
        "    transforms.Resize((128, 128)),\n",
        "    transforms.RandomHorizontalFlip(p=0.5)\n",
        "])"
      ]
    },
    {
      "cell_type": "markdown",
      "metadata": {
        "id": "P_7mX2A8Tgnw"
      },
      "source": [
        "# Model Definition"
      ]
    },
    {
      "cell_type": "code",
      "execution_count": null,
      "metadata": {
        "id": "2eYIfijqTgnw"
      },
      "outputs": [],
      "source": [
        "device = \"cuda\" if torch.cuda.is_available() else \"cpu\""
      ]
    },
    {
      "cell_type": "code",
      "execution_count": null,
      "metadata": {
        "id": "gqrWqleqTgnw"
      },
      "outputs": [],
      "source": [
        "weights = FasterRCNN_ResNet50_FPN_V2_Weights.DEFAULT\n",
        "model = fasterrcnn_resnet50_fpn_v2(weights=weights, box_score_thresh=0.9)\n",
        "model.to(device)\n",
        "\n",
        "# Get the number of input features for the classifier\n",
        "in_features = model.roi_heads.box_predictor.cls_score.in_features\n",
        "\n",
        "# Replace the head of the model with a new one (for the number of labels in your dataset)\n",
        "model.roi_heads.box_predictor = FastRCNNPredictor(in_features, NUMBER_OF_LABELS)"
      ]
    },
    {
      "cell_type": "code",
      "execution_count": null,
      "metadata": {
        "id": "heuGVU4p-Ufw"
      },
      "outputs": [],
      "source": [
        "import PIL.Image\n",
        "\n",
        "\n",
        "class CustomDataset(Dataset):\n",
        "    def __init__(self, root_dir):\n",
        "        self.root_dir = root_dir\n",
        "        self.class_lbl = \"hand\"\n",
        "        self.label_paths = []\n",
        "\n",
        "        self.label_paths += glob.glob(os.path.join(root_dir, \"labels\", \"VOC\", \"*.xml\"))\n",
        "\n",
        "    def __len__(self):\n",
        "        return len(self.label_paths)\n",
        "\n",
        "    def __getitem__(self, index):\n",
        "        tree = ET.parse(self.label_paths[index])\n",
        "        root = tree.getroot()\n",
        "        img_path = os.path.join(self.root_dir,\"images\", root.find(\"path\").text.split(\"\\\\\")[-1])\n",
        "        img = PIL.Image.open(img_path)\n",
        "        # img = decode_image(img_path, ImageReadMode.RGB).numpy(force=True)\n",
        "        xmin = float(root.find(\"object/bndbox/xmin\").text)\n",
        "        ymin = float(root.find(\"object/bndbox/ymin\").text)\n",
        "        xmax = float(root.find(\"object/bndbox/xmax\").text)\n",
        "        ymax = float(root.find(\"object/bndbox/ymax\").text)\n",
        "\n",
        "        labels = torch.tensor([1])\n",
        "        bboxes = torch.tensor([[xmin, ymin, xmax, ymax]], dtype=torch.float32)\n",
        "\n",
        "        img_as_tensor, bboxes = resize_image_and_bbox(img, bboxes, IMAGE_HEIGHT, IMAGE_WIDTH)\n",
        "\n",
        "        target = {}\n",
        "        target[\"boxes\"] = bboxes\n",
        "        target[\"labels\"] = labels\n",
        "\n",
        "        return img_as_tensor, target"
      ]
    },
    {
      "cell_type": "code",
      "execution_count": null,
      "metadata": {
        "id": "5PoRI8oY-4fW"
      },
      "outputs": [],
      "source": [
        "train_set = CustomDataset(os.path.join(ROOT_FOLDER_PATH, \"train\"))\n",
        "test_set = CustomDataset(os.path.join(ROOT_FOLDER_PATH, \"test\"))"
      ]
    },
    {
      "cell_type": "code",
      "execution_count": null,
      "metadata": {
        "id": "jUL0V1IuBLpA"
      },
      "outputs": [],
      "source": [
        "def custom_collate_fn(batch):\n",
        "    # Separate images and targets from the batch\n",
        "    images, targets = zip(*batch)\n",
        "\n",
        "    # Stack the images into a tensor (shape: [batch_size, C, H, W])\n",
        "    images = torch.stack(images, dim=0)\n",
        "\n",
        "    # Now, we need to maintain the structure: List of dictionaries with \"boxes\" and \"labels\"\n",
        "    batched_targets = []\n",
        "\n",
        "    for target in targets:\n",
        "        target_dict = {}\n",
        "        target_dict[\"boxes\"] = target[\"boxes\"]\n",
        "        target_dict[\"labels\"] = target[\"labels\"]\n",
        "        batched_targets.append(target_dict)\n",
        "\n",
        "    return images, batched_targets"
      ]
    },
    {
      "cell_type": "code",
      "source": [
        "dataloaders = {\n",
        "    \"train\": DataLoader(train_set, batch_size=BATCH_SIZE, shuffle=True, collate_fn=custom_collate_fn),\n",
        "    \"test\": DataLoader(test_set, batch_size=BATCH_SIZE, shuffle=True, collate_fn=custom_collate_fn),\n",
        "}"
      ],
      "metadata": {
        "id": "FGOJ1IzWlXip"
      },
      "execution_count": null,
      "outputs": []
    },
    {
      "cell_type": "markdown",
      "metadata": {
        "id": "v_kBI1lPCmWk"
      },
      "source": [
        "# Training"
      ]
    },
    {
      "cell_type": "code",
      "execution_count": null,
      "metadata": {
        "id": "20LhennnDQGc"
      },
      "outputs": [],
      "source": [
        "EPOCHS = 10\n",
        "NUM_CLASSES = 1"
      ]
    },
    {
      "cell_type": "code",
      "execution_count": null,
      "metadata": {
        "id": "ItPtYI7ZTgnx"
      },
      "outputs": [],
      "source": [
        "# Set up the optimizer\n",
        "params = [p for p in model.parameters() if p.requires_grad]\n",
        "optimizer = torch.optim.SGD(params, lr=0.005, momentum=0.9, weight_decay=0.0005)\n",
        "# Learning rate scheduler\n",
        "lr_scheduler = torch.optim.lr_scheduler.StepLR(optimizer, step_size=3, gamma=0.1)\n",
        "# Train the model\n",
        "for epoch in range(EPOCHS):\n",
        "    model.train()\n",
        "    train_loss = 0.0\n",
        "\n",
        "   # Training loops\n",
        "\n",
        "    for images, targets in dataloaders[\"train\"]:\n",
        "        # Ensure images are on the correct device\n",
        "        images = images.to(device)\n",
        "\n",
        "        # Ensure all target tensors are on the correct device\n",
        "        for target in targets:\n",
        "            for k in target:\n",
        "                target[k] = target[k].to(device)\n",
        "\n",
        "        # If your model is on CUDA, this avoids device mismatch\n",
        "        model.to(device)\n",
        "\n",
        "        # Zero the gradients\n",
        "        optimizer.zero_grad()\n",
        "\n",
        "        # Forward pass\n",
        "        loss_dict = model(images, targets)\n",
        "        losses = sum(loss for loss in loss_dict.values())\n",
        "\n",
        "        # Backward pass\n",
        "        losses.backward()\n",
        "        optimizer.step()\n",
        "        train_loss += losses.item()\n",
        "\n",
        "    # Update the learning rate\n",
        "    lr_scheduler.step()\n",
        "    print(f'Epoch: {epoch + 1}, Loss: {train_loss / len(dataloaders[\"train\"])}')\n",
        "print(\"Training complete!\")"
      ]
    },
    {
      "cell_type": "markdown",
      "source": [
        "# Test model"
      ],
      "metadata": {
        "id": "jwBCNCRfsaYm"
      }
    },
    {
      "cell_type": "code",
      "source": [
        "# prompt: Load the model saved under \"/content/drive/MyDrive/model.pth\" and use the datasets[\"train\"] to predict the bounding box and use draw_bounding_box and display the images in a mathplot\n",
        "\n",
        "import matplotlib.pyplot as plt\n",
        "from torchvision.utils import draw_bounding_boxes\n",
        "\n",
        "# Load the saved model\n",
        "model = torch.load(\"/content/drive/MyDrive/model.pth\", weights_only=False)\n",
        "model.to(device)\n",
        "model.eval()  # Set the model to evaluation mode\n",
        "\n",
        "# Iterate over the training dataset\n",
        "for images, targets in dataloaders[\"train\"]:\n",
        "  images = images.to(device)\n",
        "  with torch.no_grad():\n",
        "    predictions = model(images)\n",
        "\n",
        "  for i in range(len(images)):\n",
        "    image = images[i].to(device)\n",
        "    boxes = predictions[i]['boxes'].to(device)\n",
        "    labels_as_tensor = predictions[i]['labels'].to(device)\n",
        "    scores = predictions[i]['scores'].to(device)\n",
        "\n",
        "    # Filter out low-confidence predictions\n",
        "    keep = scores > 0.5\n",
        "\n",
        "    boxes = boxes[keep]\n",
        "\n",
        "    labels_as_tensor = labels_as_tensor[keep]\n",
        "    labels = []\n",
        "\n",
        "    for item in labels_as_tensor:\n",
        "      labels.append(str(item.item()))\n",
        "\n",
        "    # Draw bounding boxes\n",
        "    if len(boxes) > 0:\n",
        "      image_with_boxes = draw_bounding_boxes(image, boxes[keep], labels=labels, colors=\"red\", width=2)\n",
        "\n",
        "      # Display the image with bounding boxes\n",
        "      plt.figure(figsize=(10, 10))\n",
        "      plt.imshow(image_with_boxes.permute(1, 2, 0))\n",
        "      plt.title(\"Image with Predicted Bounding Boxes\")\n",
        "      plt.axis('off')\n",
        "      plt.show()\n"
      ],
      "metadata": {
        "id": "BkPSCx4Ksg-4"
      },
      "execution_count": null,
      "outputs": []
    },
    {
      "cell_type": "markdown",
      "metadata": {
        "id": "D6I1EvhfD4zr"
      },
      "source": [
        "# Save model"
      ]
    },
    {
      "cell_type": "code",
      "source": [
        "torch.save(model, \"/content/drive/MyDrive/model.pth\")"
      ],
      "metadata": {
        "id": "HGi1Skgp_TLd"
      },
      "execution_count": null,
      "outputs": []
    }
  ],
  "metadata": {
    "accelerator": "GPU",
    "colab": {
      "provenance": []
    },
    "gpuClass": "standard",
    "kernelspec": {
      "display_name": ".venv",
      "language": "python",
      "name": "python3"
    },
    "language_info": {
      "codemirror_mode": {
        "name": "ipython",
        "version": 3
      },
      "file_extension": ".py",
      "mimetype": "text/x-python",
      "name": "python",
      "nbconvert_exporter": "python",
      "pygments_lexer": "ipython3",
      "version": "3.13.3"
    }
  },
  "nbformat": 4,
  "nbformat_minor": 0
}